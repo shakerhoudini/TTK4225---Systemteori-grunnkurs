{
 "cells": [
  {
   "cell_type": "markdown",
   "id": "5058f580-3a35-41ed-94c1-17576e75c802",
   "metadata": {
    "tags": []
   },
   "source": [
    "# TTK4225 Assignment 1"
   ]
  },
  {
   "cell_type": "markdown",
   "id": "359bbbd4",
   "metadata": {},
   "source": [
    "### Note\n",
    "\n",
    "Some of the points below may be either solved by pen and paper, or -- for who feels brave but also learn something that will be very useful in your theses -- via symbolic computing (e.g., sympy: https://docs.sympy.org/latest/tutorials/intro-tutorial/solvers.html).\n",
    "\n",
    "The most important thing in this assignment is to understand the logics behind each procedural step you take. Thus for the teachers it does not matter which way you choose, the important is that you understand what you do."
   ]
  },
  {
   "cell_type": "markdown",
   "id": "444b6feb",
   "metadata": {},
   "source": [
    "### Introduction\n",
    "\n",
    "Consider the following three systems,\n",
    "- [mass-spring](https://en.wikipedia.org/wiki/Mass-spring-damper_model),\n",
    "- [Lotka Volterra](https://en.wikipedia.org/wiki/Lotka%E2%80%93Volterra_equations), and\n",
    "- [Van der Pol oscillator](https://en.wikipedia.org/wiki/Van_der_Pol_oscillator),\n",
    "\n",
    "defined through their ODEs as in the links above. In the remainder of the assignment we will analyse them analytically, so to gain intuitions about their properties."
   ]
  },
  {
   "cell_type": "markdown",
   "id": "b6098d37-5ac9-4c02-bc03-de336865a3cc",
   "metadata": {},
   "source": [
    "### Question 1\n",
    "\n",
    "Compute the equilibria of each of these systems as functions of the parameters of their models.\n",
    "\n",
    "* If you are solving this point via pen and paper, then write the procedure you followed to compute the solution in the cell below, using it as a ```markdown``` cell, and the solution itself.\n",
    "* If you are solving this point via symbolic computing, then use the cell below as a ```code``` cell to write the code that computes the solution."
   ]
  },
  {
   "cell_type": "markdown",
   "id": "9669d13c",
   "metadata": {},
   "source": [
    "### Solution to question 1\n",
    "\n",
    "#### Equilibria of the mass spring system:\n",
    "The mathematical model for this system can be expressed with te following differential equiation:\n",
    "$$\n",
    "-kx - d\\dot{x} + u(t) = m\\ddot{x}\n",
    "$$\n",
    "\n",
    "The equilibria of the system occurs when  $\\dot{x}$ and $\\ddot{x}$ er equal to 0. \n",
    "\n",
    "For the system this means: \n",
    "\n",
    "$$\n",
    "x_{\\text{equilibrium}} = \\frac{u}{k}\n",
    "$$\n",
    "#### Equilibria of the Lotka-Volterra system:\n",
    "The Lotka-Volterra system can mathemathically be expressed with the following differential equations: \n",
    "\n",
    "$$\n",
    "\\frac{dx}{dt} = \\alpha x - \\beta xy,\n",
    "$$\n",
    "\n",
    "$$\n",
    "\\frac{dy}{dt} = -\\gamma y + \\delta xy,\n",
    "$$\n",
    "\n",
    "To find the equilibrium we set the rate of change $\\frac{dx}{dt} = 0$ and $\\frac{dy}{dt} = 0$. \n",
    "\n",
    "By doing this we are able to solve for y and x, and get the following results. \n",
    "\n",
    "$$\n",
    "y = \\frac{\\alpha}{\\beta}\n",
    "$$\n",
    "\n",
    "and \n",
    "\n",
    "$$\n",
    "x = \\frac{\\gamma}{\\delta}\n",
    "$$\n",
    "\n",
    "That means that when the system gets to the following x and y values it will reach the equilibria. \n",
    "\n",
    "It is also important to remeber that the point (0,0) is an equilibria point. When we both have 0 predators and prey, the values wont evelove. \n",
    "\n",
    "#### Equilibria of the Van der Pol system:\n",
    "The mathematical model for the Van der Pol system can be expressed with the following differential equation: \n",
    "$$\n",
    "\\frac{d^2x}{dt^2} - \\mu(1 - x^2)\\frac{dx}{dt} + x = 0,\n",
    "$$\n",
    "To find the equilibria, we do as in the previous cases and set the rates of change equal to zero. \n",
    "\n",
    "That leaves us with: \n",
    "\n",
    "$$\n",
    "x = 0. \n",
    "$$"
   ]
  },
  {
   "cell_type": "markdown",
   "id": "7ddeadac-614e-464c-b197-c0f0c3c99dfa",
   "metadata": {},
   "source": [
    "### Question 2\n",
    "\n",
    "Using the cell below as a ```markdown``` cell, describe which of these equilibria are:\n",
    "\n",
    "- simply stable (i.e., for which there are no trajectories that start in a neighborhood of the equilibrium that 'escape' from the equilibrium. Note: simply stable is a synonym for marginally stable),\n",
    "- asymptotically stable (i.e., not just simply stable but also for which the trajectories that start closeby the equilibrium 'end' in the equilibrium),\n",
    "- or unstable (i.e., for which you can find at least one trajectory that seems starting from the equilibrium and 'moving away' from it).\n",
    "\n",
    "Say also why you believe so. Note that the fastest way to solve this question is likely googling \"phase portrait of system XXX\", taking a look at the plots you get, thinking at what these plots mean and imply, and then describe such behaviors."
   ]
  },
  {
   "cell_type": "markdown",
   "id": "f837ce4f",
   "metadata": {},
   "source": [
    "### Solution to question 2\n",
    "\n",
    "#### Description of the stability properties of the equilibria of the mass spring system:\n",
    "\n",
    "The spring mass system is asymptotic stable as long as we have an damper. That is because the physical \"block\", at the end will always go to zero. However, if we didnt have the damper it woudl be marginaly stable. \n",
    "\n",
    "#### Description of the stability properties of the equilibria of the Lotka-Volterra system:\n",
    "\n",
    "The Lotka Voltera system is marginaly stable. When the systems reaches the equilibria it may stay there. \n",
    "\n",
    "#### Description of the stability properties of the equilibria of the Van der Pol system:\n",
    "\n",
    "The Van der Pol system has an unstable equilibrium. As long as we move a little away from the equilibria poitnt we will go away from the value.  \n"
   ]
  },
  {
   "cell_type": "markdown",
   "id": "696b9481-6ba2-4db4-a9d0-ce4967e95263",
   "metadata": {},
   "source": [
    "### Question 3\n",
    "\n",
    "As for the asymptotically stable equilibria, describe their basin of attraction (i.e., which zone of the phase portrait is so that starting from a generic initial condition in that zone makes the system follow a trajectory that converges as time goes to infinity to that equilibrium).\n",
    "\n",
    "Write your answer using the cell below as a ```markdown``` cell.\n",
    "\n",
    "The fastest way to solve this is likely googling \"phase portrait of system XXX\", taking a look at the plots you get, thinking at what these plots mean and imply, and then describe such basins."
   ]
  },
  {
   "cell_type": "markdown",
   "id": "8cd54e93",
   "metadata": {},
   "source": [
    "### Solution to question 3\n",
    "\n",
    "As for the asymptotically stable equilibria, the basin of attraction is the equilibria zone that the values get dragged toward. Imagine a mass-damper system, the basin of attraction woudl be 0. Independedly of the initial condition, the damper will take the energy till we get to zero.\n",
    "\n"
   ]
  },
  {
   "cell_type": "markdown",
   "id": "752dcd10-8e27-42fc-afbe-3d1ce0cfbc5b",
   "metadata": {},
   "source": [
    "### Question 4\n",
    "\n",
    "Think at which physical system has both an **asymptotically** stable equilibrium and an unstable one. Describe such a system, and explain the intuitions you have that make you say that the equilibria have that stability properties.\n",
    "\n",
    "Write your answer using the cell below as a ```markdown``` cell."
   ]
  },
  {
   "cell_type": "markdown",
   "id": "8aab4c1b",
   "metadata": {},
   "source": [
    "### Solution to question 4\n",
    "\n",
    "An example of a system that has both an asymptotically stable equilibrium and an unstable one woudl be pendelum starting upwards. In this case we also need to think about the system with friction. If we start in the equilibrium upwards, just a little push is enough for making the system "
   ]
  },
  {
   "cell_type": "markdown",
   "id": "199c4f13-31ac-470e-95d6-b1a53b65804f",
   "metadata": {},
   "source": [
    "### Question 5\n",
    "\n",
    "How would you modify the system in Question 4 so to make the asymptotically stable equilibrium only simply stable? (Note: simply stable is a synonym for marginally stable).\n",
    "\n",
    "Write your answer using the cell below as a ```markdown``` cell."
   ]
  },
  {
   "cell_type": "markdown",
   "id": "d584868d",
   "metadata": {},
   "source": [
    "### Solution to question 5\n",
    "\n",
    "To make teh pendulum system marginally stable we have to take away the friction. This woudl not physcically be possible, however we only think about a theoretical model. To visiualise how the system woudl behave, we can think of the pendulum in an equilibria standing upwards. If we then push the pendulum a little, it woudl continiously spin around, because there is no friction to stop the movement. "
   ]
  },
  {
   "cell_type": "markdown",
   "id": "e764168e-bf79-481d-bfa4-44d6e90f4a8e",
   "metadata": {},
   "source": [
    "### Question 6\n",
    "\n",
    "Use the cell below as a ```markdown``` cell to describe how model predictive control works from intuitive perspectives."
   ]
  },
  {
   "cell_type": "markdown",
   "id": "ccdf47cd",
   "metadata": {},
   "source": [
    "### Solution to question 6\n",
    "\n",
    "From intuitive perspectives model predicitive control works by first creating a model of the physical system we are \"controlling\", and by creating that model, we can use it to \"predict\" the future behaviour. Such models contains differential equations and includes the necessary parameters to describe the rates of change of the system mathematicaly. \n",
    "\n",
    "Note: \n",
    "\n",
    "It is important to remember that the models we make of the reality are just models, they can also contain mistakes. "
   ]
  },
  {
   "cell_type": "markdown",
   "id": "34ebc175-293d-461c-a186-47aef03f3535",
   "metadata": {},
   "source": [
    "### Question 7\n",
    "\n",
    "Use the cell below as a ```markdown``` cell to describe what you think the goal of this course is."
   ]
  },
  {
   "cell_type": "markdown",
   "id": "8fed1a18",
   "metadata": {},
   "source": [
    "### Solution to question 7\n",
    "I think the goal of the course is to give us the basic understanding of the cybernetics framwork, so we can use it in the further courses. This course focuses on understanding. "
   ]
  },
  {
   "cell_type": "code",
   "execution_count": null,
   "id": "b126d60c-93ff-47aa-99e3-c7f394a7a923",
   "metadata": {},
   "outputs": [],
   "source": []
  }
 ],
 "metadata": {
  "kernelspec": {
   "display_name": "Python 3 (ipykernel)",
   "language": "python",
   "name": "python3"
  },
  "language_info": {
   "codemirror_mode": {
    "name": "ipython",
    "version": 3
   },
   "file_extension": ".py",
   "mimetype": "text/x-python",
   "name": "python",
   "nbconvert_exporter": "python",
   "pygments_lexer": "ipython3",
   "version": "3.11.6"
  }
 },
 "nbformat": 4,
 "nbformat_minor": 5
}
